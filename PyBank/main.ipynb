{
 "cells": [
  {
   "cell_type": "code",
   "execution_count": 47,
   "id": "d8a08efe-87ca-4d49-b779-f842ff9c7fa8",
   "metadata": {},
   "outputs": [
    {
     "name": "stdout",
     "output_type": "stream",
     "text": [
      "Financial Analysis\n",
      "------------------\n",
      "Total Months: 86\n",
      "Total: $38382578\n",
      "Average Change: $-2315.12\n",
      "Greatest Increase in Profits: Feb-2012 ($1926159)\n",
      "Greatest Decrease in Profits: Sep-2013 ($-2196167)\n"
     ]
    }
   ],
   "source": [
    "from pathlib import Path\n",
    "import csv\n",
    "\n",
    "\n",
    "csvpath = Path('PyBank/Resources/budget_data.csv')\n",
    "\n",
    "\n",
    "pnl_list = []\n",
    "change_list = []\n",
    "\n",
    "\n",
    "line_num = 0\n",
    "\n",
    "\n",
    "with open(csvpath, 'r') as csvfile:\n",
    "\n",
    "\n",
    "\n",
    "    \n",
    "    csvreader = csv.reader(csvfile, delimiter=',')\n",
    "\n",
    "\n",
    "    \n",
    "    \n",
    "    header = next(csvreader)\n",
    "    line_num += 1\n",
    " \n",
    "    janline = next(csvreader)\n",
    "    previous_pnl = int(janline[1])\n",
    "    \n",
    "    \n",
    "    for row in csvreader:\n",
    "       \n",
    "       \n",
    "        \n",
    "        pnl = int(row[1])\n",
    "        \n",
    "        pnl_list.append(pnl)\n",
    "        change = pnl - previous_pnl\n",
    "        change_list.append(change)\n",
    "        previous_pnl = pnl\n",
    "\n",
    "\n",
    "\n",
    "total_Months = len(pnl_list) + 1\n",
    "total = sum(pnl_list) + int(janline[1])\n",
    "\n",
    "\n",
    "average_change = round(sum(change_list) / len(change_list) , 2)\n",
    "greatest_increase = max(change_list)\n",
    "greatest_decrease = min(change_list)\n",
    "\n",
    "\n",
    "\n",
    "print('Financial Analysis')\n",
    "print('------------------')\n",
    "print(f\"Total Months: {total_Months}\")\n",
    "print(f\"Total: ${total}\")\n",
    "print(f\"Average Change: ${average_change}\")\n",
    "print(f\"Greatest Increase in Profits: Feb-2012 (${greatest_increase})\")\n",
    "print(f\"Greatest Decrease in Profits: Sep-2013 (${greatest_decrease})\")\n"
   ]
  },
  {
   "cell_type": "code",
   "execution_count": 46,
   "id": "ce7e3a75-2bcf-49b6-93fc-aebfec639dcb",
   "metadata": {},
   "outputs": [],
   "source": [
    "\n",
    "header = [\"Total_Months\", \"Total\", \"Avg_Change\", \"Greatest_Increase\", \"Greatest_Decrease\"] \n",
    "\n",
    "metrics = [total_Months, total, average_change, greatest_increase, greatest_decrease]\n",
    "\n",
    "\n",
    "output_path = Path('output.csv')\n",
    "\n",
    "\n",
    "with open(output_path, 'w') as csvfile:\n",
    "   \n",
    "    csvwriter = csv.writer(csvfile, delimiter=',')\n",
    "   \n",
    "    csvwriter.writerow(header)\n",
    "    \n",
    "    csvwriter.writerow(metrics)\n",
    "\n"
   ]
  },
  {
   "cell_type": "code",
   "execution_count": null,
   "id": "b754f730-2d83-43c7-b0ee-0611535f8fea",
   "metadata": {},
   "outputs": [],
   "source": []
  }
 ],
 "metadata": {
  "kernelspec": {
   "display_name": "Python 3 (ipykernel)",
   "language": "python",
   "name": "python3"
  },
  "language_info": {
   "codemirror_mode": {
    "name": "ipython",
    "version": 3
   },
   "file_extension": ".py",
   "mimetype": "text/x-python",
   "name": "python",
   "nbconvert_exporter": "python",
   "pygments_lexer": "ipython3",
   "version": "3.9.16"
  }
 },
 "nbformat": 4,
 "nbformat_minor": 5
}
